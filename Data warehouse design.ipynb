{
  "metadata": {
    "language_info": {
      "codemirror_mode": {
        "name": "python",
        "version": 3
      },
      "file_extension": ".py",
      "mimetype": "text/x-python",
      "name": "python",
      "nbconvert_exporter": "python",
      "pygments_lexer": "ipython3",
      "version": "3.8"
    },
    "kernelspec": {
      "name": "python",
      "display_name": "Python (Pyodide)",
      "language": "python"
    }
  },
  "nbformat_minor": 4,
  "nbformat": 4,
  "cells": [
    {
      "cell_type": "code",
      "source": "import pandas as pd\nfrom sqlalchemy import create_engine",
      "metadata": {
        "trusted": true
      },
      "execution_count": 1,
      "outputs": []
    },
    {
      "cell_type": "code",
      "source": "market_df =pd.DataFrame({\n    'MarketID' : [1, 2, 3],\n    'Market Name' : ['Market A', 'Market B', 'Market C'],\n    'Market Region' : [ 'Region X', 'Region Y', 'Region Z'],\n    'Market Country' : ['Country 1', 'Country 2', 'Country 3'],\n})",
      "metadata": {
        "trusted": true
      },
      "execution_count": 2,
      "outputs": []
    },
    {
      "cell_type": "code",
      "source": "product_df = pd.DataFrame({\n    'Product ID' : [1, 2, 3],\n    'Product Name' : ['product A', 'product B', 'product C'],\n    'Category': ['category X', 'category Y', 'category Z'],\n    'Brand' : ['brand 1', 'brand 2','brand 3'],\n})",
      "metadata": {
        "trusted": true
      },
      "execution_count": 3,
      "outputs": []
    },
    {
      "cell_type": "code",
      "source": "customer_df = pd.DataFrame({\n    'Customer ID' : [1, 2, 3],\n    'Customer Name' : ['customer 1', 'customer 2', 'customer 3'],\n    'Customer Address' : ['Address 1', 'Address 2', 'Address 3'],\n    'Customer Segment' : ['Segment 1', 'Segment 2', 'Segment 3'],\n})\n   ",
      "metadata": {
        "trusted": true
      },
      "execution_count": 4,
      "outputs": []
    },
    {
      "cell_type": "code",
      "source": "time_df = pd.DataFrame({\n      'Date ID' : [1,2,3],\n    'Date' : ['01-01-2023', '02-01-2023', '03-01-2023'],\n    'Month' : ['January', 'January', 'January'],\n    'Quarter' : ['Q1', 'Q1', 'Q1'],\n    'Year' : [2023,2023,2023],\n})\n",
      "metadata": {
        "trusted": true
      },
      "execution_count": 5,
      "outputs": []
    },
    {
      "cell_type": "code",
      "source": "pricing_df = pd.DataFrame({\n    'Pricing ID' : [1, 2, 3],\n    'Product ID' : [1, 2, 3],\n    'Market ID' : [1, 2, 3],\n    'price' : [10.99, 19.99, 15.99]\n})\n# I have taken a random set of prices just for example",
      "metadata": {
        "trusted": true
      },
      "execution_count": 6,
      "outputs": []
    },
    {
      "cell_type": "code",
      "source": "inventory_df = pd.DataFrame({\n    'Inventory ID' : [1, 2, 3],\n    'Product ID' : [1, 2, 3],\n    'Market ID' : [1, 2, 3],\n    'Quantity' : [100, 200, 150]\n})\n# I have taken a random set of numbers for quantity ",
      "metadata": {
        "trusted": true
      },
      "execution_count": 7,
      "outputs": []
    },
    {
      "cell_type": "code",
      "source": "sales_df = pd.DataFrame({\n    'Sales ID' : [1, 2, 3],\n    'Product ID' : [1, 2, 3],\n    'Customer ID' : [1, 2, 3],\n    'Market ID' : [1, 2, 3],\n    'Date ID' : [1, 2, 3],\n    'Quantity ID' : [5, 10, 7],\n    'Revenue' : [54.95,199.99,111.93]\n})",
      "metadata": {
        "trusted": true
      },
      "execution_count": 8,
      "outputs": []
    },
    {
      "cell_type": "code",
      "source": "engine = create_engine('sqlite:///data_warehouses.db')\n\nmarket_df.to_sql('Market', engine, index=False, if_exists='replace')\nproduct_df.to_sql('Product', engine, index=False, if_exists='replace')\ncustomer_df.to_sql('Customer', engine, index=False, if_exists='replace')\ntime_df.to_sql('Time', engine, index=False, if_exists='replace')\npricing_df.to_sql('Price', engine, index=False, if_exists='replace')\ninventory_df.to_sql('Inventory', engine, index=False, if_exists='replace')\n\n# Got an error ('Database disk image malformed')\n#This could be because of the version incompatibility or data corruption\n#In these type of cases, we have to \n#recover the database ('sqlite3 data_warehouse.db \".recover\" | sqlite3 recovered.db')\n#extract data from it('sqlite3 recovered.db .dump > data.sql')\n",
      "metadata": {},
      "execution_count": null,
      "outputs": []
    },
    {
      "cell_type": "code",
      "source": "#To determine if higher-priced items were more prevalent in some markets,\n#we can calculate the average price for each market and compare it across different markets. \n\nquery = '''\n    SELECT Market.\"Market Name\", AVG(Price.price) AS AvgPrice\n    FROM Market\n    INNER JOIN Price ON Market.MarketID = Price.MarketID\n    GROUP BY Market.\"Market Name\"\n    ORDER BY AvgPrice DESC\n'''\n\nresult = pd.read_sql_query(query, engine)\nprint(\"Markets sorted by average price:\")\nprint(result)\n",
      "metadata": {},
      "execution_count": null,
      "outputs": []
    },
    {
      "cell_type": "code",
      "source": "#To determine whether inventory should be reallocated or prices adjusted based on location,\n#we can analyze the relationship between inventory levels and prices in different markets. \nquery = '''\n    SELECT Inventory.\"Market ID\",\n           AVG(Inventory.Quantity) AS AvgQuantity,\n           AVG(Price.price) AS AvgPrice\n    FROM Inventory\n    INNER JOIN Price ON Inventory.\"Market ID\" = Price.\"Market ID\"\n    GROUP BY Inventory.\"Market ID\"\n'''\n\nresult = pd.read_sql_query(query, engine)\n\n\nfor _, row in result.iterrows():\n    market_id = row['Market ID']\n    avg_quantity = row['AvgQuantity']\n    avg_price = row['AvgPrice']\n    \n    if avg_quantity < 100 and avg_price > 15.00:\n        print(f\"Inventory reallocation needed for Market {market_id}\")\n    elif avg_quantity > 200 and avg_price < 10.00:\n        print(f\"Price adjustment needed for Market {market_id}\")\n    else:\n        print(f\"No action needed for Market {market_id}\")\n",
      "metadata": {},
      "execution_count": null,
      "outputs": []
    }
  ]
}